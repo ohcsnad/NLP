{
 "cells": [
  {
   "cell_type": "markdown",
   "id": "2be14b4d-7cf4-4327-951b-f4b1161fec30",
   "metadata": {},
   "source": [
    "# Project 2 - Wine labels and Classification"
   ]
  },
  {
   "cell_type": "markdown",
   "id": "9b379859-ef41-4895-9f2a-f5a6bd2dbe53",
   "metadata": {},
   "source": [
    "Let's try constructing a system to label tasting notes by wine variety based on their reviews."
   ]
  },
  {
   "cell_type": "markdown",
   "id": "66097fd2-c136-4665-994d-476dca3d7191",
   "metadata": {},
   "source": [
    "## Part 1"
   ]
  },
  {
   "cell_type": "code",
   "execution_count": 1,
   "id": "d9c4367a-9132-41ec-9c46-f7339da9fcf2",
   "metadata": {},
   "outputs": [],
   "source": [
    "import re\n",
    "\n",
    "import matplotlib.pyplot as plt\n",
    "import numpy as np\n",
    "import pandas as pd\n",
    "from cytoolz import *\n",
    "from tqdm.auto import tqdm\n",
    "\n",
    "tqdm.pandas()"
   ]
  },
  {
   "cell_type": "markdown",
   "id": "db73bc24-00f6-4bd0-ab49-888a98ad8897",
   "metadata": {},
   "source": [
    "### Load and Preprocess Text"
   ]
  },
  {
   "cell_type": "code",
   "execution_count": 2,
   "id": "91df13b8-fdf7-4d2f-865d-ef8a94c6af73",
   "metadata": {},
   "outputs": [],
   "source": [
    "train = pd.read_parquet(\"/data/wine-train.parquet\")\n",
    "test = pd.read_parquet(\"/data/wine-test.parquet\")"
   ]
  },
  {
   "cell_type": "code",
   "execution_count": 3,
   "id": "25acf65c-cecd-40ad-9793-e1ba6552cddd",
   "metadata": {},
   "outputs": [
    {
     "data": {
      "text/plain": [
       "Pinot Noir            38471\n",
       "Cabernet Sauvignon    30234\n",
       "Chardonnay            19443\n",
       "Syrah                 13704\n",
       "Riesling               9683\n",
       "Zinfandel              8327\n",
       "Merlot                 5522\n",
       "Sauvignon Blanc        5113\n",
       "Name: wine_variant, dtype: int64"
      ]
     },
     "execution_count": 3,
     "metadata": {},
     "output_type": "execute_result"
    }
   ],
   "source": [
    "train[\"wine_variant\"].value_counts()"
   ]
  },
  {
   "cell_type": "code",
   "execution_count": 4,
   "id": "e63cbfd0-fe28-4621-a16b-8b40b4eb9efa",
   "metadata": {},
   "outputs": [
    {
     "data": {
      "text/html": [
       "<div>\n",
       "<style scoped>\n",
       "    .dataframe tbody tr th:only-of-type {\n",
       "        vertical-align: middle;\n",
       "    }\n",
       "\n",
       "    .dataframe tbody tr th {\n",
       "        vertical-align: top;\n",
       "    }\n",
       "\n",
       "    .dataframe thead th {\n",
       "        text-align: right;\n",
       "    }\n",
       "</style>\n",
       "<table border=\"1\" class=\"dataframe\">\n",
       "  <thead>\n",
       "    <tr style=\"text-align: right;\">\n",
       "      <th></th>\n",
       "      <th>review_text</th>\n",
       "      <th>wine_variant</th>\n",
       "    </tr>\n",
       "  </thead>\n",
       "  <tbody>\n",
       "    <tr>\n",
       "      <th>0</th>\n",
       "      <td>Rich smoky dark cherry nose very intense fruit...</td>\n",
       "      <td>Pinot Noir</td>\n",
       "    </tr>\n",
       "    <tr>\n",
       "      <th>1</th>\n",
       "      <td>Had this at Corton Restaurant in NYC. First of...</td>\n",
       "      <td>Syrah</td>\n",
       "    </tr>\n",
       "    <tr>\n",
       "      <th>2</th>\n",
       "      <td>Nose is very tart, with a layer of sweet fruit...</td>\n",
       "      <td>Pinot Noir</td>\n",
       "    </tr>\n",
       "    <tr>\n",
       "      <th>3</th>\n",
       "      <td>Beautiful golden color. Discrete perfumed nose...</td>\n",
       "      <td>Chardonnay</td>\n",
       "    </tr>\n",
       "    <tr>\n",
       "      <th>4</th>\n",
       "      <td>Please take the time to decant: you will not b...</td>\n",
       "      <td>Pinot Noir</td>\n",
       "    </tr>\n",
       "  </tbody>\n",
       "</table>\n",
       "</div>"
      ],
      "text/plain": [
       "                                         review_text wine_variant\n",
       "0  Rich smoky dark cherry nose very intense fruit...   Pinot Noir\n",
       "1  Had this at Corton Restaurant in NYC. First of...        Syrah\n",
       "2  Nose is very tart, with a layer of sweet fruit...   Pinot Noir\n",
       "3  Beautiful golden color. Discrete perfumed nose...   Chardonnay\n",
       "4  Please take the time to decant: you will not b...   Pinot Noir"
      ]
     },
     "execution_count": 4,
     "metadata": {},
     "output_type": "execute_result"
    }
   ],
   "source": [
    "train.head()"
   ]
  },
  {
   "cell_type": "markdown",
   "id": "f85d1873-3b5e-4c8c-ada7-94ad563c7755",
   "metadata": {},
   "source": [
    "### Collect candidate term phrases"
   ]
  },
  {
   "cell_type": "code",
   "execution_count": 5,
   "id": "3bb377da-c6d9-42ad-af69-e9adced2e70d",
   "metadata": {},
   "outputs": [],
   "source": [
    "import spacy\n",
    "from spacy.matcher import Matcher"
   ]
  },
  {
   "cell_type": "code",
   "execution_count": 6,
   "id": "cf8ca96e-4f75-48ed-9cd5-2724b2138021",
   "metadata": {},
   "outputs": [],
   "source": [
    "nlp = spacy.load(\n",
    "    \"en_core_web_sm\", exclude=[\"parser\", \"ner\", \"lemmatizer\", \"attribute_ruler\"]\n",
    ")"
   ]
  },
  {
   "cell_type": "code",
   "execution_count": 7,
   "id": "e37c952e-165f-4464-a333-1f71d8d30ba2",
   "metadata": {},
   "outputs": [],
   "source": [
    "matcher = Matcher(nlp.vocab)\n",
    "matcher.add(\n",
    "    \"Term\",\n",
    "    [\n",
    "        [\n",
    "            {\"TAG\": {\"IN\": [\"JJ\", \"NN\", \"NNS\", \"NNP\"]}},\n",
    "            {\"TAG\": {\"IN\": [\"JJ\", \"NN\", \"NNS\", \"NNP\", \"HYPH\"]}, \"OP\": \"*\"},\n",
    "            {\"TAG\": {\"IN\": [\"NN\", \"NNS\", \"NNP\"]}},\n",
    "        ]\n",
    "    ],\n",
    ")"
   ]
  },
  {
   "cell_type": "code",
   "execution_count": 8,
   "id": "aa934fb1-0a6d-4746-b6cf-0ef0eef1f281",
   "metadata": {},
   "outputs": [],
   "source": [
    "def get_phrases(doc):\n",
    "    spans = matcher(doc, as_spans=True)\n",
    "    return [tuple(tok.norm_ for tok in span) for span in spans]"
   ]
  },
  {
   "cell_type": "code",
   "execution_count": 9,
   "id": "aab47818-bce3-45eb-905b-7f1c76436860",
   "metadata": {},
   "outputs": [
    {
     "data": {
      "application/vnd.jupyter.widget-view+json": {
       "model_id": "28ad8a91f82643e0b4a53abb76bf0493",
       "version_major": 2,
       "version_minor": 0
      },
      "text/plain": [
       "  0%|          | 0/130497 [00:00<?, ?it/s]"
      ]
     },
     "metadata": {},
     "output_type": "display_data"
    }
   ],
   "source": [
    "candidates = list(\n",
    "    concat(map(get_phrases, nlp.pipe(tqdm(train[\"review_text\"]), batch_size=20, n_process=4)))\n",
    ")"
   ]
  },
  {
   "cell_type": "code",
   "execution_count": 10,
   "id": "89b98106-f167-4bbe-9fc1-944fd44af6bc",
   "metadata": {},
   "outputs": [],
   "source": [
    "import pickle\n",
    "\n",
    "with open(\"cands.pkl\", \"wb\") as out:\n",
    "    pickle.dump(candidates, out)"
   ]
  },
  {
   "cell_type": "code",
   "execution_count": 11,
   "id": "e9ab63f7-615a-4c5f-b728-a85326acb9bc",
   "metadata": {},
   "outputs": [],
   "source": [
    "from collections import defaultdict\n",
    "import nltk\n",
    "\n",
    "freqs = defaultdict(nltk.FreqDist)\n",
    "for c in candidates:\n",
    "    freqs[len(c)][c] += 1"
   ]
  },
  {
   "cell_type": "markdown",
   "id": "d0fa2d1a-831f-4eda-961b-995b1bd84af2",
   "metadata": {},
   "source": [
    "### Extract terms"
   ]
  },
  {
   "cell_type": "code",
   "execution_count": 12,
   "id": "2bd7432c-d8cb-4170-8c05-8a97bbef9962",
   "metadata": {},
   "outputs": [],
   "source": [
    "def get_subterms(term):\n",
    "    k = len(term)\n",
    "    for m in range(k - 1, 1, -1):\n",
    "        yield from nltk.ngrams(term, m)\n",
    "\n",
    "\n",
    "def c_value(F, theta):\n",
    "\n",
    "    termhood = nltk.FreqDist()\n",
    "    longer = defaultdict(list)\n",
    "\n",
    "    for k in sorted(F, reverse=True):\n",
    "        for term in F[k]:\n",
    "            if term in longer:\n",
    "                discount = sum(longer[term]) / len(longer[term])\n",
    "            else:\n",
    "                discount = 0\n",
    "            c = np.log2(k) * (F[k][term] - discount)\n",
    "            if c > theta:\n",
    "                termhood[term] = c\n",
    "                for subterm in get_subterms(term):\n",
    "                    if subterm in F[len(subterm)]:\n",
    "                        longer[subterm].append(F[k][term])\n",
    "    return termhood"
   ]
  },
  {
   "cell_type": "code",
   "execution_count": 13,
   "id": "74bd3f60-e06c-48fa-b420-0ade0f559cf0",
   "metadata": {},
   "outputs": [],
   "source": [
    "terms = c_value(freqs, theta=150)"
   ]
  },
  {
   "cell_type": "code",
   "execution_count": 14,
   "id": "c0893e54-cc61-4867-b0d0-2c136f55a3aa",
   "metadata": {},
   "outputs": [
    {
     "data": {
      "text/plain": [
       "[(('long', 'finish'), 6530.0),\n",
       " (('red', 'fruit'), 6447.888888888889),\n",
       " (('dark', 'fruit'), 4986.666666666667),\n",
       " (('black', 'cherry'), 4689.75),\n",
       " (('black', 'fruit'), 3451.0),\n",
       " (('red', 'fruits'), 3019.0),\n",
       " (('medium', 'finish'), 2804.0),\n",
       " (('good', 'acidity'), 2649.0),\n",
       " (('last', 'bottle'), 2376.0),\n",
       " (('medium', 'body'), 2283.0)]"
      ]
     },
     "execution_count": 14,
     "metadata": {},
     "output_type": "execute_result"
    }
   ],
   "source": [
    "terms.most_common(10)"
   ]
  },
  {
   "cell_type": "code",
   "execution_count": 15,
   "id": "b91e7da1-ca72-4c11-b9b1-b149e6667fd4",
   "metadata": {},
   "outputs": [
    {
     "data": {
      "text/plain": [
       "[(('crisp', 'finish'), 153.0),\n",
       " (('tart', 'raspberry'), 153.0),\n",
       " (('good', 'dose'), 153.0),\n",
       " (('pencil', 'shavings'), 153.0),\n",
       " (('tart', 'berry'), 153.0),\n",
       " (('vanilla', 'nose'), 153.0),\n",
       " (('oregon', 'pinot', 'noir'), 152.15640006923098),\n",
       " (('apple', 'fruit'), 152.0),\n",
       " (('earth', 'tones'), 152.0),\n",
       " (('tart', 'plum'), 151.0)]"
      ]
     },
     "execution_count": 15,
     "metadata": {},
     "output_type": "execute_result"
    }
   ],
   "source": [
    "terms.most_common()[-10:]"
   ]
  },
  {
   "cell_type": "code",
   "execution_count": 16,
   "id": "43a9dc54-c846-4860-9f7f-cbf5f05b35e8",
   "metadata": {},
   "outputs": [],
   "source": [
    "with open('terms.txt', 'w') as f:\n",
    "    for term in terms:\n",
    "        print(' '.join(term), file=f)"
   ]
  },
  {
   "cell_type": "markdown",
   "id": "a1771361-1e94-4255-b698-0e8ec82644b4",
   "metadata": {},
   "source": [
    "### Multi-word Tokenizer"
   ]
  },
  {
   "cell_type": "code",
   "execution_count": 17,
   "id": "5c60a1c1-38e1-4827-91f5-0049e7ce68b4",
   "metadata": {},
   "outputs": [],
   "source": [
    "from spacy.matcher import PhraseMatcher\n",
    "from spacy.util import filter_spans"
   ]
  },
  {
   "cell_type": "code",
   "execution_count": 18,
   "id": "347f171b-75e8-4e3a-8446-f3319c91ee34",
   "metadata": {},
   "outputs": [],
   "source": [
    "nlp = spacy.load(\n",
    "    \"en_core_web_sm\",\n",
    "    exclude=[\"tagger\", \"parser\", \"ner\", \"lemmatizer\", \"attribute_ruler\"],\n",
    ")\n",
    "phraser = PhraseMatcher(nlp.vocab, attr=\"LOWER\")"
   ]
  },
  {
   "cell_type": "code",
   "execution_count": 19,
   "id": "3127d9fc-28e5-400e-b287-3ddfde4a06aa",
   "metadata": {},
   "outputs": [],
   "source": [
    "with open('terms.txt', 'r') as f:\n",
    "    phraser.add(\"TERM\", [nlp.tokenizer(t.strip()) for t in f])"
   ]
  },
  {
   "cell_type": "code",
   "execution_count": 20,
   "id": "61f11694-e918-448a-b8d8-d7fcd5c6ad6b",
   "metadata": {},
   "outputs": [],
   "source": [
    "def tokenize(text, sep=\"_\"):\n",
    "    doc = nlp.tokenizer(text)\n",
    "    with doc.retokenize() as r:\n",
    "        for span in filter_spans(phraser(doc, as_spans=True)):\n",
    "            r.merge(span)\n",
    "    return [t.norm_.replace(\" \", sep) for t in doc if not t.is_space and not t.is_punct]"
   ]
  },
  {
   "cell_type": "code",
   "execution_count": 21,
   "id": "2b342c92-6c02-459a-914a-6a98630723fc",
   "metadata": {},
   "outputs": [
    {
     "data": {
      "application/vnd.jupyter.widget-view+json": {
       "model_id": "84350be626a14a68b9a981fd9f84a726",
       "version_major": 2,
       "version_minor": 0
      },
      "text/plain": [
       "  0%|          | 0/130497 [00:00<?, ?it/s]"
      ]
     },
     "metadata": {},
     "output_type": "display_data"
    },
    {
     "data": {
      "application/vnd.jupyter.widget-view+json": {
       "model_id": "8d07013ce87247b2b99f05c93c2b8323",
       "version_major": 2,
       "version_minor": 0
      },
      "text/plain": [
       "  0%|          | 0/32625 [00:00<?, ?it/s]"
      ]
     },
     "metadata": {},
     "output_type": "display_data"
    }
   ],
   "source": [
    "train[\"tokens\"] = train[\"review_text\"].progress_apply(tokenize)\n",
    "test[\"tokens\"] = test[\"review_text\"].progress_apply(tokenize)"
   ]
  },
  {
   "cell_type": "markdown",
   "id": "5bed7e4e-2308-422d-8f1f-69eba9eeb278",
   "metadata": {},
   "source": [
    "### Linear Classifier"
   ]
  },
  {
   "cell_type": "code",
   "execution_count": 24,
   "id": "bba1e9e3-6bf3-4d0a-8bf0-43a40a68b217",
   "metadata": {},
   "outputs": [],
   "source": [
    "import fasttext\n",
    "from sklearn.base import BaseEstimator, TransformerMixin\n",
    "from scipy.stats.distributions import loguniform, randint, uniform\n",
    "from sklearn.feature_extraction.text import CountVectorizer\n",
    "from sklearn.linear_model import SGDClassifier\n",
    "from sklearn.model_selection import RandomizedSearchCV\n",
    "from sklearn.pipeline import make_pipeline\n",
    "from sklearn.metrics import classification_report, f1_score"
   ]
  },
  {
   "cell_type": "code",
   "execution_count": 25,
   "id": "3414808f-c7da-4f35-849b-4a0e98c9a1d7",
   "metadata": {},
   "outputs": [
    {
     "name": "stdout",
     "output_type": "stream",
     "text": [
      "                    precision    recall  f1-score   support\n",
      "\n",
      "Cabernet Sauvignon       0.70      0.81      0.75      7558\n",
      "        Chardonnay       0.78      0.87      0.82      4861\n",
      "            Merlot       0.81      0.34      0.47      1381\n",
      "        Pinot Noir       0.81      0.83      0.82      9618\n",
      "          Riesling       0.82      0.76      0.79      2421\n",
      "   Sauvignon Blanc       0.79      0.67      0.72      1278\n",
      "             Syrah       0.65      0.59      0.62      3426\n",
      "         Zinfandel       0.72      0.57      0.64      2082\n",
      "\n",
      "          accuracy                           0.76     32625\n",
      "         macro avg       0.76      0.68      0.70     32625\n",
      "      weighted avg       0.76      0.76      0.75     32625\n",
      "\n"
     ]
    }
   ],
   "source": [
    "sgd = make_pipeline(CountVectorizer(analyzer=identity), SGDClassifier(random_state=321))\n",
    "sgd.fit(train[\"tokens\"], train[\"wine_variant\"])\n",
    "print(classification_report(test[\"wine_variant\"], sgd.predict(test[\"tokens\"])))"
   ]
  },
  {
   "cell_type": "markdown",
   "id": "c4d89b0c-26d1-4346-99e9-04828b76cf27",
   "metadata": {},
   "source": [
    "### Hyperparameter Search"
   ]
  },
  {
   "cell_type": "code",
   "execution_count": 26,
   "id": "19befe4a-68ba-4fb1-81e7-c18709c50278",
   "metadata": {},
   "outputs": [
    {
     "data": {
      "text/plain": [
       "(0.7554503197401312,\n",
       " {'sgdclassifier__alpha': 2.0814039028545628e-05,\n",
       "  'sgdclassifier__average': True})"
      ]
     },
     "execution_count": 26,
     "metadata": {},
     "output_type": "execute_result"
    }
   ],
   "source": [
    "search = RandomizedSearchCV(\n",
    "    sgd,\n",
    "    {\n",
    "        \"sgdclassifier__alpha\": loguniform(1e-8, 1.0),\n",
    "        \"sgdclassifier__average\": [True, False]\n",
    "    },\n",
    "    n_iter=20,\n",
    "    n_jobs=-1,\n",
    "    scoring=\"f1_weighted\",\n",
    ")\n",
    "\n",
    "search.fit(train[\"tokens\"], train[\"wine_variant\"])\n",
    "search.best_score_, search.best_params_"
   ]
  },
  {
   "cell_type": "code",
   "execution_count": 27,
   "id": "def9b7cc-5f9b-4441-8cb4-27bc94433838",
   "metadata": {},
   "outputs": [
    {
     "data": {
      "image/png": "[encoded data removed]",
      "text/plain": [
       "<Figure size 640x480 with 1 Axes>"
      ]
     },
     "metadata": {},
     "output_type": "display_data"
    }
   ],
   "source": [
    "cv_results = pd.DataFrame(search.cv_results_)\n",
    "plt.scatter(\n",
    "    cv_results.query(\"param_sgdclassifier__average==True\")[\n",
    "        \"param_sgdclassifier__alpha\"\n",
    "    ],\n",
    "    cv_results.query(\"param_sgdclassifier__average==True\")[\"mean_test_score\"],\n",
    "    label=\"average=True\",\n",
    ")\n",
    "plt.scatter(\n",
    "    cv_results.query(\"param_sgdclassifier__average==False\")[\n",
    "        \"param_sgdclassifier__alpha\"\n",
    "    ],\n",
    "    cv_results.query(\"param_sgdclassifier__average==False\")[\"mean_test_score\"],\n",
    "    label=\"average=False\",\n",
    ")\n",
    "plt.semilogx()\n",
    "plt.title(\"SGDClassifier\")\n",
    "plt.xlabel(\"alpha\")\n",
    "plt.ylabel(\"Weighted f1\")\n",
    "plt.legend()\n",
    "plt.show()"
   ]
  },
  {
   "cell_type": "code",
   "execution_count": 28,
   "id": "603e50dd-87e9-4211-b855-d5f7d202d7ed",
   "metadata": {},
   "outputs": [
    {
     "name": "stdout",
     "output_type": "stream",
     "text": [
      "                    precision    recall  f1-score   support\n",
      "\n",
      "Cabernet Sauvignon       0.68      0.84      0.75      7558\n",
      "        Chardonnay       0.83      0.85      0.84      4861\n",
      "            Merlot       0.86      0.33      0.48      1381\n",
      "        Pinot Noir       0.77      0.87      0.82      9618\n",
      "          Riesling       0.85      0.77      0.81      2421\n",
      "   Sauvignon Blanc       0.88      0.64      0.74      1278\n",
      "             Syrah       0.75      0.55      0.63      3426\n",
      "         Zinfandel       0.86      0.53      0.66      2082\n",
      "\n",
      "          accuracy                           0.76     32625\n",
      "         macro avg       0.81      0.67      0.71     32625\n",
      "      weighted avg       0.77      0.76      0.76     32625\n",
      "\n"
     ]
    }
   ],
   "source": [
    "sgd.set_params(**search.best_params_)\n",
    "sgd.fit(train[\"tokens\"], train[\"wine_variant\"])\n",
    "print(classification_report(test[\"wine_variant\"], sgd.predict(test[\"tokens\"])))"
   ]
  },
  {
   "cell_type": "markdown",
   "id": "164b2b96-c15a-4836-9bd2-ec39972eee86",
   "metadata": {},
   "source": [
    "I decided to use a linear classifier with SGD, where the loss function \"hinge\", gives a linear SVM. The pre-processing was done with a multi-word tokenizer which also improved the performance compared to a simple tokenizer, as well as FastText. The model was also tuned to have the average parameter set to True, and as well as the optimized regularization term alpha. With these adjustments the macro-averaged F1 score(0.71) already performed better than the tuned MNB model(0.68). "
   ]
  },
  {
   "cell_type": "markdown",
   "id": "055dfed3-a07e-406a-872e-9ae66fde780c",
   "metadata": {},
   "source": [
    "## Part 2"
   ]
  },
  {
   "cell_type": "code",
   "execution_count": 29,
   "id": "adbcc38e-f995-4a12-9793-790a4902e9e1",
   "metadata": {},
   "outputs": [],
   "source": [
    "coef = sgd.named_steps[\"sgdclassifier\"].coef_\n",
    "vocab = sgd.named_steps[\"countvectorizer\"].get_feature_names_out()"
   ]
  },
  {
   "cell_type": "markdown",
   "id": "b29b8698-fff4-4491-9f0d-1756c482d164",
   "metadata": {},
   "source": [
    "### Model Coefficients"
   ]
  },
  {
   "cell_type": "code",
   "execution_count": 30,
   "id": "230bf0e3-35ba-4329-a38b-b3dadf602fe7",
   "metadata": {},
   "outputs": [
    {
     "name": "stdout",
     "output_type": "stream",
     "text": [
      "cabernet         5.846\n",
      "cabs             5.403\n",
      "cab              5.268\n",
      "napa_cab         5.137\n",
      "cabernet_sauvignon  5.120\n",
      "cali_cab         5.014\n",
      "california_cab   4.571\n",
      "california_cabernet  3.979\n",
      "nice_cab         3.965\n",
      "napa_cabernet    3.672\n",
      "cassis           3.226\n",
      "caymus           3.073\n",
      "cs               2.755\n",
      "napa             2.735\n",
      "dunn             2.711\n",
      "montelena        2.675\n",
      "cabernets        2.636\n",
      "%_cabernet_sauvignon  2.612\n",
      "bordeaux         2.612\n",
      "quilceda         2.580\n",
      "rutherford       2.413\n",
      "creme_de_cassis  2.404\n",
      "blackcurrant     2.377\n",
      "black_currant    2.356\n",
      "mountain         2.265\n",
      "\n",
      "merlot          -5.562\n",
      "pinot           -4.620\n",
      "syrah           -4.484\n",
      "zin             -4.259\n",
      "merlots         -4.159\n",
      "pinots          -3.892\n",
      "pinot_noir      -3.693\n",
      "zins            -3.664\n",
      "chardonnay      -3.481\n",
      "zinfandel       -3.409\n",
      "pn              -3.382\n",
      "hermitage       -3.262\n",
      "syrahs          -3.206\n",
      "burg            -3.088\n",
      "chard           -3.076\n",
      "burgundy        -2.973\n",
      "oregon_pinot    -2.968\n",
      "burgundian      -2.967\n",
      "riesling        -2.881\n",
      "franc           -2.546\n",
      "bacon_fat       -2.501\n",
      "nice_pinot      -2.487\n",
      "cote_rotie      -2.481\n",
      "oregon          -2.460\n",
      "northern_rhone  -2.437\n"
     ]
    }
   ],
   "source": [
    "ranked = np.argsort(coef, axis=1)\n",
    "for i in range(-1, -26, -1):\n",
    "    print(f\"{vocab[ranked[0,i]]:15s} {coef[0,ranked[0,i]]:6.3f}\")\n",
    "print()\n",
    "for i in range(25):\n",
    "    print(f\"{vocab[ranked[0,i]]:15s} {coef[0,ranked[0,i]]:6.3f}\")"
   ]
  },
  {
   "cell_type": "markdown",
   "id": "95af1dd2-b80d-4f00-aa33-a998d32a7468",
   "metadata": {},
   "source": [
    "We can see that for Cab the highest coefficients words are ones that describe Cab. The names in the top 25 coefficients are brands that specialize in that as well. Let's look at ones that have a lower Recall score."
   ]
  },
  {
   "cell_type": "code",
   "execution_count": 31,
   "id": "ff9c4892-5063-4b2a-a53f-64e9abc28ec9",
   "metadata": {},
   "outputs": [
    {
     "name": "stdout",
     "output_type": "stream",
     "text": [
      "merlot           9.580\n",
      "merlots          7.231\n",
      "%_merlot         3.360\n",
      "paloma           2.353\n",
      "bank             2.308\n",
      "havens           2.254\n",
      "pride            1.792\n",
      "foley            1.638\n",
      "pomerol          1.576\n",
      "italian          1.543\n",
      "januik           1.428\n",
      "acetone          1.403\n",
      "emilion          1.326\n",
      "midweight        1.325\n",
      "chocolate_notes  1.274\n",
      "oakiness         1.266\n",
      "tuscan           1.260\n",
      "rounds           1.239\n",
      "plummy           1.237\n",
      "reds             1.214\n",
      "cobbler          1.203\n",
      "cocoa            1.203\n",
      "timing           1.156\n",
      "confirmed        1.153\n",
      "plums            1.150\n",
      "\n",
      "pinot           -3.163\n",
      "syrah           -2.730\n",
      "zin             -2.620\n",
      "cabs            -2.501\n",
      "pinot_noir      -2.407\n",
      "cabernet        -2.403\n",
      "cabernet_sauvignon -2.318\n",
      "chardonnay      -2.302\n",
      "napa_cab        -2.277\n",
      "zinfandel       -2.162\n",
      "cali_cab        -1.936\n",
      "burgundy        -1.935\n",
      "cab             -1.880\n",
      "pinots          -1.867\n",
      "citrus          -1.781\n",
      "california_cab  -1.737\n",
      "chard           -1.697\n",
      "zins            -1.522\n",
      "white           -1.519\n",
      "lemon           -1.497\n",
      "caymus          -1.475\n",
      "pear            -1.415\n",
      "yellow          -1.398\n",
      "syrahs          -1.390\n",
      "pn              -1.314\n"
     ]
    }
   ],
   "source": [
    "ranked = np.argsort(coef, axis=1)\n",
    "for i in range(-1, -26, -1):\n",
    "    print(f\"{vocab[ranked[2,i]]:15s} {coef[2,ranked[2,i]]:6.3f}\")\n",
    "print()\n",
    "for i in range(25):\n",
    "    print(f\"{vocab[ranked[2,i]]:15s} {coef[2,ranked[2,i]]:6.3f}\")"
   ]
  },
  {
   "cell_type": "markdown",
   "id": "098738c7-fbed-426c-ada0-ccee46c1cd9d",
   "metadata": {},
   "source": [
    "After reviewing all 8 wine varieties, the features with the highest coefficients are relevant to their wine type. This is surprising for the ones with the lower recall score because I would think it would be classified more correctly. This might be due to the class imbalance, where Cab, Pinot, and Chardonnay have significantly more observations.  "
   ]
  },
  {
   "cell_type": "markdown",
   "id": "0bfcbe52-06ec-4a7e-ac36-1ca6ebb2970f",
   "metadata": {},
   "source": [
    "## Part 3"
   ]
  },
  {
   "cell_type": "markdown",
   "id": "d079cd50-a45b-4219-8854-2de6f6308a83",
   "metadata": {},
   "source": [
    "### Confusion Matrix"
   ]
  },
  {
   "cell_type": "code",
   "execution_count": 121,
   "id": "6c8955a5-e5a8-4228-ae7e-db3bd9d9286d",
   "metadata": {},
   "outputs": [
    {
     "data": {
      "text/plain": [
       "<sklearn.metrics._plot.confusion_matrix.ConfusionMatrixDisplay at 0x2b4a7bf17e80>"
      ]
     },
     "execution_count": 121,
     "metadata": {},
     "output_type": "execute_result"
    },
    {
     "data": {
      "image/png": "[encoded data removed]",
      "text/plain": [
       "<Figure size 640x480 with 2 Axes>"
      ]
     },
     "metadata": {},
     "output_type": "display_data"
    }
   ],
   "source": [
    "ConfusionMatrixDisplay.from_estimator(\n",
    "    sgd, test[\"tokens\"], test[\"wine_variant\"], xticks_rotation=90\n",
    ")"
   ]
  },
  {
   "cell_type": "markdown",
   "id": "840dca7f-8162-434b-b2ad-2a0f89765b2f",
   "metadata": {},
   "source": [
    "For Merlot, we can see that it reflects the very low recall score from our classification report. A large portion of Merlot is being classified as Cabernet Sauivgnon. We can try to create a new label that covers both Cabernet/Merlot to see if we can get better performance. However, if this label covers both types of wine, I'm curious to know how we would be able to use that information since they are two distinct wine types."
   ]
  },
  {
   "cell_type": "markdown",
   "id": "0cdecbfe-9ee2-4a9c-97fb-66224804584a",
   "metadata": {},
   "source": [
    "### Relabel, Train/Test"
   ]
  },
  {
   "cell_type": "code",
   "execution_count": 146,
   "id": "e8a6d446-7188-45ad-ada6-025633ecae9f",
   "metadata": {},
   "outputs": [],
   "source": [
    "train['wine_variant'] = train['wine_variant'].replace('Merlot', 'Cabernet/Merlot')\n",
    "train['wine_variant'] = train['wine_variant'].replace('Cabernet Sauvignon', 'Cabernet/Merlot')"
   ]
  },
  {
   "cell_type": "code",
   "execution_count": 147,
   "id": "b6285780-4e3d-4966-afe6-d2e13225cb1d",
   "metadata": {},
   "outputs": [],
   "source": [
    "test['wine_variant'] = test['wine_variant'].replace('Merlot', 'Cabernet/Merlot')\n",
    "test['wine_variant'] = test['wine_variant'].replace('Cabernet Sauvignon', 'Cabernet/Merlot')"
   ]
  },
  {
   "cell_type": "code",
   "execution_count": 152,
   "id": "021dfecd-7f8f-43e2-a8e5-51fcdb218fa7",
   "metadata": {},
   "outputs": [
    {
     "name": "stdout",
     "output_type": "stream",
     "text": [
      "                 precision    recall  f1-score   support\n",
      "\n",
      "Cabernet/Merlot       0.72      0.87      0.79      8939\n",
      "     Chardonnay       0.84      0.84      0.84      4861\n",
      "     Pinot Noir       0.78      0.85      0.82      9618\n",
      "       Riesling       0.84      0.76      0.80      2421\n",
      "Sauvignon Blanc       0.86      0.65      0.74      1278\n",
      "          Syrah       0.79      0.52      0.62      3426\n",
      "      Zinfandel       0.89      0.52      0.65      2082\n",
      "\n",
      "       accuracy                           0.78     32625\n",
      "      macro avg       0.82      0.71      0.75     32625\n",
      "   weighted avg       0.79      0.78      0.78     32625\n",
      "\n"
     ]
    }
   ],
   "source": [
    "sgd = make_pipeline(CountVectorizer(analyzer=identity), SGDClassifier(random_state=321, average = True))\n",
    "sgd.fit(train[\"tokens\"], train[\"wine_variant\"])\n",
    "print(classification_report(test[\"wine_variant\"], sgd.predict(test[\"tokens\"])))"
   ]
  },
  {
   "cell_type": "markdown",
   "id": "b9e849df-02ee-4ae9-89ec-83d4dd1cf7a0",
   "metadata": {},
   "source": [
    "We can see an improvement of 0.75 macro-average F1 score with the new labels. Let's try to tune the model to see if we can get past 0.75"
   ]
  },
  {
   "cell_type": "code",
   "execution_count": 153,
   "id": "49edd6bf-91b6-4660-a246-851b59269284",
   "metadata": {},
   "outputs": [
    {
     "data": {
      "text/plain": [
       "(0.7792001017454722, {'sgdclassifier__alpha': 1.0071075781375284e-05})"
      ]
     },
     "execution_count": 153,
     "metadata": {},
     "output_type": "execute_result"
    }
   ],
   "source": [
    "search = RandomizedSearchCV(\n",
    "    sgd,\n",
    "    {\n",
    "        \"sgdclassifier__alpha\": loguniform(1e-8, 1.0),\n",
    "    },\n",
    "    n_iter=20,\n",
    "    n_jobs=-1,\n",
    "    scoring=\"f1_weighted\",\n",
    ")\n",
    "\n",
    "search.fit(train[\"tokens\"], train[\"wine_variant\"])\n",
    "search.best_score_, search.best_params_"
   ]
  },
  {
   "cell_type": "code",
   "execution_count": 154,
   "id": "48d63817-5fda-46ec-91f2-f92bb07722d6",
   "metadata": {},
   "outputs": [
    {
     "name": "stdout",
     "output_type": "stream",
     "text": [
      "                 precision    recall  f1-score   support\n",
      "\n",
      "Cabernet/Merlot       0.73      0.86      0.79      8939\n",
      "     Chardonnay       0.86      0.83      0.84      4861\n",
      "     Pinot Noir       0.77      0.86      0.81      9618\n",
      "       Riesling       0.84      0.78      0.81      2421\n",
      "Sauvignon Blanc       0.87      0.65      0.75      1278\n",
      "          Syrah       0.78      0.53      0.63      3426\n",
      "      Zinfandel       0.87      0.53      0.66      2082\n",
      "\n",
      "       accuracy                           0.78     32625\n",
      "      macro avg       0.82      0.72      0.76     32625\n",
      "   weighted avg       0.79      0.78      0.78     32625\n",
      "\n"
     ]
    }
   ],
   "source": [
    "sgd.set_params(**search.best_params_)\n",
    "sgd.fit(train[\"tokens\"], train[\"wine_variant\"])\n",
    "print(classification_report(test[\"wine_variant\"], sgd.predict(test[\"tokens\"])))"
   ]
  },
  {
   "cell_type": "markdown",
   "id": "cad9992e-68ab-4d58-af33-241c583bf67f",
   "metadata": {},
   "source": [
    "Using the new set of labels, we were able to get a slight improvement of our macro-averaged F1 score."
   ]
  }
 ],
 "metadata": {
  "kernelspec": {
   "display_name": "Python 3 (ipykernel)",
   "language": "python",
   "name": "python3"
  },
  "language_info": {
   "codemirror_mode": {
    "name": "ipython",
    "version": 3
   },
   "file_extension": ".py",
   "mimetype": "text/x-python",
   "name": "python",
   "nbconvert_exporter": "python",
   "pygments_lexer": "ipython3",
   "version": "3.10.8"
  }
 },
 "nbformat": 4,
 "nbformat_minor": 5
}
